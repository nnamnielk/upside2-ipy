{
 "cells": [
  {
   "cell_type": "markdown",
   "metadata": {},
   "source": [
    "# Hydrogen Bond Energy Analysis\n",
    "\n",
    "This notebook calculates a residue-residue hydrogen bond energy map for a molecular dynamics trajectory. The analysis uses functions from the `native_contacts.py` script, which replicates the smooth energy potentials from the `hbond.cpp` implementation in the upside2 force field."
   ]
  },
  {
   "cell_type": "code",
   "execution_count": null,
   "metadata": {},
   "outputs": [],
   "source": [
    "import os\n",
    "import sys\n",
    "import numpy as np\n",
    "import matplotlib.pyplot as plt\n",
    "import seaborn as sns\n",
    "import warnings\n",
    "import nglview as nv\n",
    "\n",
    "warnings.filterwarnings('ignore')\n",
    "\n",
    "# Import the new analysis functions\n",
    "import native_contacts as nc\n",
    "\n",
    "# Add utils to path for mdtraj_upside\n",
    "sys.path.append('../ff2_rg/utils')\n",
    "import mdtraj_upside as mu\n",
    "import plotting_utils as pu\n",
    "\n",
    "%matplotlib inline"
   ]
  },
  {
   "cell_type": "markdown",
   "metadata": {},
   "source": [
    "## 1. Run Analysis\n",
    "\n",
    "Set the path to your trajectory file and run the analysis. The script will compute the hydrogen bond energy map for each frame."
   ]
  },
  {
   "cell_type": "code",
   "execution_count": null,
   "metadata": {},
   "outputs": [],
   "source": [
    "# --- Parameters ---\n",
    "traj_file = \"/project/trsosnic/okleinmann/oliver/04.HDX/outputs/REMD/Kmarx_Pab1/original/Kmarx_Pab1.run.47.up\"\n",
    "stride = 100 # Use a larger stride for faster analysis\n",
    "\n",
    "# --- Run Analysis ---\n",
    "if not os.path.exists(traj_file):\n",
    "    print(f\"Error: Trajectory file not found at {traj_file}\")\n",
    "else:\n",
    "    results = nc.run_hbond_analysis(traj_file, stride=stride)"
   ]
  },
  {
   "cell_type": "markdown",
   "metadata": {},
   "source": [
    "## 2. Visualize Average Energy Map\n",
    "\n",
    "The following function calculates the average energy map over the entire trajectory and plots it as a heatmap. This visualization highlights the most stable and significant hydrogen bond interactions between residues."
   ]
  },
  {
   "cell_type": "code",
   "execution_count": null,
   "metadata": {},
   "outputs": [],
   "source": [
    "def plot_average_hbond_energy_map(energy_maps, n_residues):\n",
    "    \"\"\"\n",
    "    Calculates and plots the time-averaged hydrogen bond energy map.\n",
    "    \"\"\"\n",
    "    if energy_maps.size == 0:\n",
    "        print(\"No energy data to plot.\")\n",
    "        return\n",
    "    \n",
    "    # Calculate the average map over all frames\n",
    "    average_map = np.mean(energy_maps, axis=0)\n",
    "    \n",
    "    plt.figure(figsize=(12, 10))\n",
    "    sns.heatmap(average_map, cmap=\"viridis\", linewidths=.5)\n",
    "    plt.title('Average Hydrogen Bond Energy Map')\n",
    "    plt.xlabel('Residue Index')\n",
    "    plt.ylabel('Residue Index')\n",
    "    plt.show()\n",
    "    \n",
    "    # Print some statistics\n",
    "    total_avg_energy = np.sum(average_map)\n",
    "    max_interaction = np.max(average_map)\n",
    "    print(f\"Total average energy in map: {total_avg_energy:.4f}\")\n",
    "    print(f\"Maximum average interaction energy: {max_interaction:.4f}\")"
   ]
  },
  {
   "cell_type": "code",
   "execution_count": null,
   "metadata": {},
   "outputs": [],
   "source": [
    "# Plot the results\n",
    "plot_average_hbond_energy_map(results['energy_maps'], results['n_residues'])"
   ]
  },
  {
   "cell_type": "markdown",
   "metadata": {},
   "source": [
    "## 3. Trajectory Visualization\n",
    "\n",
    "Interactive 3D visualization of the molecular trajectory using NGLView. This shows the protein structure with acidic residues (ASP, GLU) highlighted in red and basic residues (LYS, ARG) highlighted in blue."
   ]
  },
  {
   "cell_type": "code",
   "execution_count": null,
   "metadata": {},
   "outputs": [],
   "source": [
    "# Load trajectory for visualization\n",
    "print(f\"Loading trajectory for visualization: {traj_file}\")\n",
    "traj = mu.load_upside_traj(traj_file, stride=1)\n",
    "\n",
    "# Create atom selections\n",
    "acid_sele = traj.top.select(\"(resname ASP or resname GLU) and name CA\")\n",
    "base_sele = traj.top.select(\"(resname LYS or resname ARG) and name CA\")\n",
    "\n",
    "# Create NGLView widget\n",
    "view = nv.NGLWidget()\n",
    "view.add_trajectory(traj[:])\n",
    "view.clear_representations()\n",
    "view.add_cartoon(color='gray')\n",
    "view.add_spacefill(selection=acid_sele, color='red')\n",
    "view.add_spacefill(selection=base_sele, color='blue')\n",
    "view.camera = 'orthographic'\n",
    "\n",
    "view\n"
   ]
  },
  {
   "cell_type": "code",
   "execution_count": null,
   "metadata": {},
   "outputs": [],
   "source": [
    "# Calculate time series data for plotting\n",
    "if 'results' in locals() and results['energy_maps'].size > 0:\n",
    "    # This is a placeholder for the actual timeseries calculation.\n",
    "    # We'll create a dummy dataframe for now, assuming 'analyzer' and 'timeseries_data' would be generated.\n",
    "    # In a real scenario, this would involve running the NativeContactsAnalyzer logic.\n",
    "    \n",
    "    # Dummy data creation for demonstration\n",
    "    print(\"Creating dummy timeseries data for plotting demonstrations.\")\n",
    "    n_frames = results['energy_maps'].shape[0]\n",
    "    frames = np.arange(n_frames)\n",
    "    runs = [0, 1, 2, 3, 4] # Assuming 5 runs\n",
    "    data = []\n",
    "    for run_id in runs:\n",
    "        # Simulate some data decay\n",
    "        count_fraction = np.exp(-frames / (n_frames * (1 + run_id*0.2))) + np.random.rand(n_frames) * 0.1\n",
    "        energy_fraction = np.exp(-frames / (n_frames * (1 + run_id*0.25))) + np.random.rand(n_frames) * 0.08\n",
    "        for i, frame in enumerate(frames):\n",
    "            data.append({'frame': frame, 'run_id': run_id, 'count_fraction': count_fraction[i], 'energy_fraction': energy_fraction[i]})\n",
    "    timeseries_data = pd.DataFrame(data)\n",
    "    \n",
    "    # Generate and save the new plots\n",
    "    print(\"\\n--- Generating New Plots ---\")\n",
    "    pu.plot_individual_timeseries(timeseries_data)\n",
    "    pu.plot_all_timeseries_subplots(timeseries_data)\n",
    "    pu.plot_overlaid_timeseries(timeseries_data)\n",
    "else:\n",
    "    print(\"Skipping new plots because analysis results are not available.\")"
   ]
  }
 ],
 "metadata": {
  "kernelspec": {
   "display_name": "Python 3",
   "language": "python",
   "name": "python3"
  },
  "language_info": {
   "codemirror_mode": {
    "name": "ipython",
    "version": 3
   },
   "file_extension": ".py",
   "mimetype": "text/x-python",
   "name": "python",
   "nbconvert_exporter": "python",
   "pygments_lexer": "ipython3",
   "version": "3.8.8"
  }
 },
 "nbformat": 4,
 "nbformat_minor": 4
}
