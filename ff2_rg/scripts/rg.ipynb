{
 "cells": [
  {
   "cell_type": "markdown",
   "metadata": {},
   "source": [
    "# Trajectory Length Analysis\n",
    "\n",
    "This notebook analyzes the trajectory lengths and amino acid counts for molecular dynamics simulations in the run1 and run2 directories."
   ]
  },
  {
   "cell_type": "code",
   "execution_count": 22,
   "metadata": {},
   "outputs": [],
   "source": [
    "import os\n",
    "import glob\n",
    "import pandas as pd\n",
    "import numpy as np\n",
    "import mdtraj as md\n",
    "from collections import defaultdict\n",
    "import sys\n",
    "import nglview as nv\n",
    "%matplotlib inline\n",
    "import sys, os\n",
    "from math import ceil\n",
    "import seaborn as sb\n",
    "from scipy.spatial.transform import Rotation as R\n",
    "from scipy import stats\n",
    "import tables as tb\n",
    "%matplotlib inline\n",
    "import matplotlib as mpl\n",
    "import matplotlib.pyplot as plt\n",
    "import matplotlib.ticker as ticker\n",
    "from mpl_toolkits.mplot3d import Axes3D\n",
    "import ipywidgets as widgets\n",
    "import subprocess as sp\n",
    "# import matplotlib.matlab.hist as hist\n",
    "\n",
    "sys.path.append('../utils')\n",
    "import mdtraj_upside as mu"
   ]
  },
  {
   "cell_type": "code",
   "execution_count": 2,
   "metadata": {},
   "outputs": [
    {
     "name": "stdout",
     "output_type": "stream",
     "text": [
      "Found 0 files in run1 and 0 files in run2\n",
      "Total files: 0\n",
      "Found 0 unique PDB IDs:\n"
     ]
    },
    {
     "data": {
      "text/plain": [
       "{}"
      ]
     },
     "execution_count": 2,
     "metadata": {},
     "output_type": "execute_result"
    }
   ],
   "source": [
    "def get_trajectory_files():\n",
    "    \"\"\"Get all trajectory files from run1 and run2 directories.\"\"\"\n",
    "    run1_files = glob.glob('../run1/*-out_*.h5')\n",
    "    run2_files = glob.glob('../run2/*-out_*.h5')\n",
    "    \n",
    "    all_files = run1_files + run2_files\n",
    "    print(f\"Found {len(run1_files)} files in run1 and {len(run2_files)} files in run2\")\n",
    "    print(f\"Total files: {len(all_files)}\")\n",
    "    \n",
    "    return all_files\n",
    "def extract_pdb_id(filename):\n",
    "    \"\"\"Extract PDB ID from filename by splitting on '-' and taking first element.\"\"\"\n",
    "    basename = os.path.basename(filename)\n",
    "    return basename.split('-')[0]\n",
    "def get_unique_pdb_files(all_files):\n",
    "    \"\"\"Get one representative file for each unique PDB ID.\"\"\"\n",
    "    pdb_to_file = {}\n",
    "    \n",
    "    for filepath in all_files:\n",
    "        pdb_id = extract_pdb_id(filepath)\n",
    "        if pdb_id not in pdb_to_file:\n",
    "            pdb_to_file[pdb_id] = filepath\n",
    "    \n",
    "    print(f\"Found {len(pdb_to_file)} unique PDB IDs:\")\n",
    "    for pdb_id in sorted(pdb_to_file.keys()):\n",
    "        print(f\"  {pdb_id}: {os.path.basename(pdb_to_file[pdb_id])}\")\n",
    "    \n",
    "    return pdb_to_file\n",
    "\n",
    "get_unique_pdb_files(get_trajectory_files())"
   ]
  },
  {
   "cell_type": "code",
   "execution_count": 3,
   "metadata": {},
   "outputs": [],
   "source": [
    "up_indir = r\"/persistent/inputs\"\n",
    "base_dir = r\"/persistent/inputss\"\n",
    "pdb_id = \"a3d\"\n",
    "traj_fn = os.path.join(up_indir,\"{}.run.up\".format(pdb_id))\n",
    "\n",
    "init_fn = os.path.join(up_indir,\"{}.initial.npy\".format(pdb_id))\n",
    "fasta_fn = os.path.join(up_indir,\"{}.fasta\".format(pdb_id))\n",
    "\n",
    "traj = mu.load_upside_traj(traj_fn,stride=1)"
   ]
  },
  {
   "cell_type": "code",
   "execution_count": 4,
   "metadata": {},
   "outputs": [
    {
     "data": {
      "text/plain": [
       "73"
      ]
     },
     "execution_count": 4,
     "metadata": {},
     "output_type": "execute_result"
    }
   ],
   "source": [
    "def protein_length(traj):\n",
    "    \"\"\"\n",
    "    Returns the number of amino acid residues in the protein(s) in the trajectory.\n",
    "\n",
    "    Parameters\n",
    "    ----------\n",
    "    traj : md.Trajectory\n",
    "        The MDTraj trajectory object.\n",
    "\n",
    "    Returns\n",
    "    -------\n",
    "    int\n",
    "        Number of amino acid residues in the protein(s).\n",
    "    \"\"\"\n",
    "    # List of standard amino acid residue names\n",
    "    standard_aa = set([\n",
    "        'ALA', 'ARG', 'ASN', 'ASP', 'CYS', 'GLN', 'GLU', 'GLY',\n",
    "        'HIS', 'ILE', 'LEU', 'LYS', 'MET', 'PHE', 'PRO', 'SER',\n",
    "        'THR', 'TRP', 'TYR', 'VAL'\n",
    "    ])\n",
    "    \n",
    "    # Count residues that are amino acids\n",
    "    count = 0\n",
    "    for residue in traj.topology.residues:\n",
    "        if residue.name in standard_aa:\n",
    "            count += 1\n",
    "    return count\n",
    "\n",
    "protein_length(traj)"
   ]
  },
  {
   "cell_type": "code",
   "execution_count": 5,
   "metadata": {},
   "outputs": [],
   "source": [
    "def center_of_mass(traj):\n",
    "    xyz = traj.xyz\n",
    "    # Get masses (n_atoms,)\n",
    "    if traj.topology is not None and traj.topology.n_atoms == traj.n_atoms:\n",
    "        masses = np.array([atom.element.mass for atom in traj.topology.atoms])\n",
    "    else:\n",
    "        raise ValueError(\"Trajectory must have topology with elemental masses.\")\n",
    "\n",
    "    masses = masses.astype(np.float64)\n",
    "    total_mass = np.sum(masses)\n",
    "\n",
    "    # Compute center of mass for each frame\n",
    "    com = np.sum(xyz * masses[None, :, None], axis=1) / total_mass  # shape: (n_frames, 3)\n",
    "\n",
    "    return com\n",
    "\n",
    "coms=center_of_mass(traj)\n",
    "\n",
    "def radius_of_gyration(traj):\n",
    "    # Get positions (n_frames, n_atoms, 3)\n",
    "    xyz = traj.xyz\n",
    "    # Get masses (n_atoms,)\n",
    "    if traj.topology is not None and traj.topology.n_atoms == traj.n_atoms:\n",
    "        masses = np.array([atom.element.mass for atom in traj.topology.atoms])\n",
    "    else:\n",
    "        raise ValueError(\"Trajectory must have topology with elemental masses.\")\n",
    "\n",
    "    masses = masses.astype(np.float64)\n",
    "    total_mass = np.sum(masses)\n",
    "\n",
    "    # Compute center of mass for each frame\n",
    "    com = np.sum(xyz * masses[None, :, None], axis=1) / total_mass  # shape: (n_frames, 3)\n",
    "\n",
    "    # Compute squared distances from COM for each atom and frame\n",
    "    diff = xyz - com[:, None, :]  # shape: (n_frames, n_atoms, 3)\n",
    "    sq_dist = np.sum(diff ** 2, axis=2)  # shape: (n_frames, n_atoms)\n",
    "\n",
    "    # Weighted sum and sqrt for each frame\n",
    "    rg_sq = np.sum(masses[None, :] * sq_dist, axis=1) / total_mass  # shape: (n_frames,)\n",
    "    rg = np.sqrt(rg_sq)\n",
    "    return rg\n",
    "\n",
    "rgs=radius_of_gyration(traj)"
   ]
  },
  {
   "cell_type": "code",
   "execution_count": 6,
   "metadata": {},
   "outputs": [
    {
     "data": {
      "application/vnd.jupyter.widget-view+json": {
       "model_id": "306d6b08a5074355b5f560525890add6",
       "version_major": 2,
       "version_minor": 0
      },
      "text/plain": [
       "NGLWidget(max_frame=28308)"
      ]
     },
     "metadata": {},
     "output_type": "display_data"
    }
   ],
   "source": [
    "view = nv.NGLWidget()\n",
    "view.add_trajectory(traj)\n",
    "view.clear_representations()\n",
    "view.add_cartoon(color='gray')\n",
    "\n",
    "view.camera = 'orthographic'\n",
    "view.parameters = {\n",
    "    \"clipNear\": -100, \"clipFar\": 1000,\n",
    "    \"fogNear\": 0, \"fogFar\": 1000,\n",
    "}\n",
    "view"
   ]
  },
  {
   "cell_type": "code",
   "execution_count": 10,
   "metadata": {},
   "outputs": [
    {
     "ename": "AttributeError",
     "evalue": "module 'nglview' has no attribute 'Shape'",
     "output_type": "error",
     "traceback": [
      "\u001b[31m---------------------------------------------------------------------------\u001b[39m",
      "\u001b[31mAttributeError\u001b[39m                            Traceback (most recent call last)",
      "\u001b[36mCell\u001b[39m\u001b[36m \u001b[39m\u001b[32mIn[10]\u001b[39m\u001b[32m, line 12\u001b[39m\n\u001b[32m      9\u001b[39m view.add_cartoon(color=\u001b[33m'\u001b[39m\u001b[33mgray\u001b[39m\u001b[33m'\u001b[39m)\n\u001b[32m     11\u001b[39m \u001b[38;5;66;03m# Create a Shape object\u001b[39;00m\n\u001b[32m---> \u001b[39m\u001b[32m12\u001b[39m shape = \u001b[43mnv\u001b[49m\u001b[43m.\u001b[49m\u001b[43mShape\u001b[49m(\u001b[33m'\u001b[39m\u001b[33mspheres\u001b[39m\u001b[33m'\u001b[39m)\n\u001b[32m     13\u001b[39m \u001b[38;5;28;01mfor\u001b[39;00m pos, rad \u001b[38;5;129;01min\u001b[39;00m \u001b[38;5;28mzip\u001b[39m(positions, radii):\n\u001b[32m     14\u001b[39m     shape.add_sphere(\u001b[38;5;28mlist\u001b[39m(pos), color=[\u001b[32m0\u001b[39m, \u001b[32m1\u001b[39m, \u001b[32m0\u001b[39m], radius=\u001b[38;5;28mfloat\u001b[39m(rad))  \u001b[38;5;66;03m# green spheres\u001b[39;00m\n",
      "\u001b[31mAttributeError\u001b[39m: module 'nglview' has no attribute 'Shape'"
     ]
    }
   ],
   "source": [
    "sphere_radii = 1 / np.array(rgs) * 10\n",
    "\n",
    "positions = coms  # shape: (n_spheres, 3)\n",
    "radii = sphere_radii\n",
    "\n",
    "view = nv.NGLWidget()\n",
    "view.add_trajectory(traj)\n",
    "view.clear_representations()\n",
    "view.add_cartoon(color='gray')\n",
    "\n",
    "# Create a Shape object\n",
    "shape = nv.Shape('spheres')\n",
    "for pos, rad in zip(positions, radii):\n",
    "    shape.add_sphere(list(pos), color=[0, 1, 0], radius=float(rad))  # green spheres\n",
    "\n",
    "view.add_shape(shape)\n",
    "\n",
    "view.camera = 'orthographic'\n",
    "view.parameters = {\n",
    "    \"clipNear\": -100, \"clipFar\": 1000,\n",
    "    \"fogNear\": 0, \"fogFar\": 1000,\n",
    "}\n",
    "\n",
    "view"
   ]
  },
  {
   "cell_type": "code",
   "execution_count": 16,
   "metadata": {},
   "outputs": [],
   "source": [
    "def process_pdb_files(source_dir, command_script):\n",
    "    \"\"\"\n",
    "    Finds all .pdb files in the source directory and executes a command on them.\n",
    "    \n",
    "    Args:\n",
    "        source_dir (str): The path to the directory containing PDB files.\n",
    "        command_script (str): The Python script to execute on each PDB file.\n",
    "    \"\"\"\n",
    "    print(\"--- Starting PDB File Processing ---\")\n",
    "    for filename in os.listdir(source_dir):\n",
    "        if filename.lower().endswith('.pdb'):\n",
    "            source_path = os.path.join(source_dir, filename)\n",
    "            if os.path.isfile(source_path):\n",
    "                print(f\"Processing {filename}...\")\n",
    "                try:\n",
    "                    # Command: python PDB_to_initial_sturcture.py path/to/file.pdb\n",
    "                    sp.run(['python', command_script, source_path], check=True, capture_output=True, text=True)\n",
    "                except sp.CalledProcessError as e:\n",
    "                    print(f\"  -> Error processing {filename}.\")\n",
    "                    print(f\"  -> Stderr: {e.stderr.strip()}\")\n",
    "                except FileNotFoundError:\n",
    "                    print(f\"  -> FATAL ERROR: Script '{command_script}' not found.\")\n",
    "                    return # Stop if the script is missing\n",
    "\n",
    "def move_non_pdb_files(source_dir, dest_dir):\n",
    "    \"\"\"\n",
    "    Moves all files that are not .pdb files from the source to the destination directory.\n",
    "    \n",
    "    Args:\n",
    "        source_dir (str): The directory to move files from.\n",
    "        dest_dir (str): The directory to move files to.\n",
    "    \"\"\"\n",
    "    print(\"\\n--- Moving Non-PDB Files ---\")\n",
    "    os.makedirs(dest_dir, exist_ok=True) # Ensure dest_dir exists\n",
    "    \n",
    "    for filename in os.listdir(source_dir):\n",
    "        if not filename.lower().endswith('.pdb'):\n",
    "            source_path = os.path.join(source_dir, filename)\n",
    "            if os.path.isfile(source_path):\n",
    "                print(f\"Moving {filename}...\")\n",
    "                dest_path = os.path.join(dest_dir, filename)\n",
    "                shutil.move(source_path, dest_path)\n",
    "\n"
   ]
  },
  {
   "cell_type": "code",
   "execution_count": 19,
   "metadata": {},
   "outputs": [
    {
     "name": "stdout",
     "output_type": "stream",
     "text": [
      "--- Starting PDB File Processing ---\n"
     ]
    },
    {
     "ename": "FileNotFoundError",
     "evalue": "[Errno 2] No such file or directory: '/persistent/data/native/'",
     "output_type": "error",
     "traceback": [
      "\u001b[31m---------------------------------------------------------------------------\u001b[39m",
      "\u001b[31mFileNotFoundError\u001b[39m                         Traceback (most recent call last)",
      "\u001b[36mCell\u001b[39m\u001b[36m \u001b[39m\u001b[32mIn[19]\u001b[39m\u001b[32m, line 1\u001b[39m\n\u001b[32m----> \u001b[39m\u001b[32m1\u001b[39m \u001b[43mprocess_pdb_files\u001b[49m\u001b[43m(\u001b[49m\u001b[33;43m\"\u001b[39;49m\u001b[33;43m/persistent/data/native/\u001b[39;49m\u001b[33;43m\"\u001b[39;49m\u001b[43m,\u001b[49m\u001b[33;43m\"\u001b[39;49m\u001b[33;43m/upside2-md/py/PDB_to_initial_structure.py\u001b[39;49m\u001b[33;43m\"\u001b[39;49m\u001b[43m)\u001b[49m\n",
      "\u001b[36mCell\u001b[39m\u001b[36m \u001b[39m\u001b[32mIn[16]\u001b[39m\u001b[32m, line 10\u001b[39m, in \u001b[36mprocess_pdb_files\u001b[39m\u001b[34m(source_dir, command_script)\u001b[39m\n\u001b[32m      2\u001b[39m \u001b[38;5;250m\u001b[39m\u001b[33;03m\"\"\"\u001b[39;00m\n\u001b[32m      3\u001b[39m \u001b[33;03mFinds all .pdb files in the source directory and executes a command on them.\u001b[39;00m\n\u001b[32m      4\u001b[39m \n\u001b[32m   (...)\u001b[39m\u001b[32m      7\u001b[39m \u001b[33;03m    command_script (str): The Python script to execute on each PDB file.\u001b[39;00m\n\u001b[32m      8\u001b[39m \u001b[33;03m\"\"\"\u001b[39;00m\n\u001b[32m      9\u001b[39m \u001b[38;5;28mprint\u001b[39m(\u001b[33m\"\u001b[39m\u001b[33m--- Starting PDB File Processing ---\u001b[39m\u001b[33m\"\u001b[39m)\n\u001b[32m---> \u001b[39m\u001b[32m10\u001b[39m \u001b[38;5;28;01mfor\u001b[39;00m filename \u001b[38;5;129;01min\u001b[39;00m \u001b[43mos\u001b[49m\u001b[43m.\u001b[49m\u001b[43mlistdir\u001b[49m\u001b[43m(\u001b[49m\u001b[43msource_dir\u001b[49m\u001b[43m)\u001b[49m:\n\u001b[32m     11\u001b[39m     \u001b[38;5;28;01mif\u001b[39;00m filename.lower().endswith(\u001b[33m'\u001b[39m\u001b[33m.pdb\u001b[39m\u001b[33m'\u001b[39m):\n\u001b[32m     12\u001b[39m         source_path = os.path.join(source_dir, filename)\n",
      "\u001b[31mFileNotFoundError\u001b[39m: [Errno 2] No such file or directory: '/persistent/data/native/'"
     ]
    }
   ],
   "source": [
    "process_pdb_files(\"/persistent/data/native/\",\"/upside2-md/py/PDB_to_initial_structure.py\")"
   ]
  },
  {
   "cell_type": "code",
   "execution_count": 30,
   "metadata": {},
   "outputs": [
    {
     "name": "stdout",
     "output_type": "stream",
     "text": [
      "Checking relative path: '../data/native/'\n",
      "Does it exist? -> False\n",
      "Is it a directory? -> False\n"
     ]
    }
   ],
   "source": [
    "import os\n",
    "\n",
    "# Use the relative path from the notebook's perspective\n",
    "relative_path = '../data/native/'\n",
    "\n",
    "print(f\"Checking relative path: '{relative_path}'\")\n",
    "print(f\"Does it exist? -> {os.path.exists(relative_path)}\")\n",
    "print(f\"Is it a directory? -> {os.path.isdir(relative_path)}\")\n",
    "\n",
    "if os.path.exists(relative_path):\n",
    "    print(\"\\nSuccess! Contents:\")\n",
    "    print(os.listdir(relative_path)[:10]) # Print first 10 items"
   ]
  },
  {
   "cell_type": "code",
   "execution_count": 23,
   "metadata": {},
   "outputs": [
    {
     "name": "stdout",
     "output_type": "stream",
     "text": [
      "hello\n"
     ]
    }
   ],
   "source": [
    "print(\"hello\")"
   ]
  },
  {
   "cell_type": "code",
   "execution_count": null,
   "metadata": {},
   "outputs": [],
   "source": []
  },
  {
   "cell_type": "code",
   "execution_count": 1,
   "metadata": {},
   "outputs": [
    {
     "ename": "NameError",
     "evalue": "name 'get_trajectory_files' is not defined",
     "output_type": "error",
     "traceback": [
      "\u001b[31m---------------------------------------------------------------------------\u001b[39m",
      "\u001b[31mNameError\u001b[39m                                 Traceback (most recent call last)",
      "\u001b[36mCell\u001b[39m\u001b[36m \u001b[39m\u001b[32mIn[1]\u001b[39m\u001b[32m, line 1\u001b[39m\n\u001b[32m----> \u001b[39m\u001b[32m1\u001b[39m \u001b[43mget_trajectory_files\u001b[49m()\n",
      "\u001b[31mNameError\u001b[39m: name 'get_trajectory_files' is not defined"
     ]
    }
   ],
   "source": []
  },
  {
   "cell_type": "code",
   "execution_count": null,
   "metadata": {},
   "outputs": [],
   "source": []
  },
  {
   "cell_type": "code",
   "execution_count": null,
   "metadata": {},
   "outputs": [],
   "source": []
  }
 ],
 "metadata": {
  "kernelspec": {
   "display_name": "Python 3 (ipykernel)",
   "language": "python",
   "name": "python3"
  },
  "language_info": {
   "codemirror_mode": {
    "name": "ipython",
    "version": 3
   },
   "file_extension": ".py",
   "mimetype": "text/x-python",
   "name": "python",
   "nbconvert_exporter": "python",
   "pygments_lexer": "ipython3",
   "version": "3.11.13"
  }
 },
 "nbformat": 4,
 "nbformat_minor": 4
}
